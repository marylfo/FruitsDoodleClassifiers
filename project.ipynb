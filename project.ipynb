{
 "cells": [
  {
   "cell_type": "code",
   "execution_count": 1,
   "metadata": {},
   "outputs": [
    {
     "data": {
      "text/html": [
       "<style scoped>\n",
       "  .ansiout {\n",
       "    display: block;\n",
       "    unicode-bidi: embed;\n",
       "    white-space: pre-wrap;\n",
       "    word-wrap: break-word;\n",
       "    word-break: break-all;\n",
       "    font-family: \"Source Code Pro\", \"Menlo\", monospace;;\n",
       "    font-size: 13px;\n",
       "    color: #555;\n",
       "    margin-left: 4px;\n",
       "    line-height: 19px;\n",
       "  }\n",
       "</style>\n",
       "<div class=\"ansiout\"></div>"
      ]
     },
     "metadata": {},
     "output_type": "display_data"
    }
   ],
   "source": [
    "import numpy as np"
   ]
  },
  {
   "cell_type": "markdown",
   "metadata": {},
   "source": [
    "# Data Loading"
   ]
  },
  {
   "cell_type": "code",
   "execution_count": 2,
   "metadata": {},
   "outputs": [
    {
     "data": {
      "text/html": [
       "<style scoped>\n",
       "  .ansiout {\n",
       "    display: block;\n",
       "    unicode-bidi: embed;\n",
       "    white-space: pre-wrap;\n",
       "    word-wrap: break-word;\n",
       "    word-break: break-all;\n",
       "    font-family: \"Source Code Pro\", \"Menlo\", monospace;;\n",
       "    font-size: 13px;\n",
       "    color: #555;\n",
       "    margin-left: 4px;\n",
       "    line-height: 19px;\n",
       "  }\n",
       "</style>\n",
       "<div class=\"ansiout\"></div>"
      ]
     },
     "metadata": {},
     "output_type": "display_data"
    }
   ],
   "source": [
    "#import neccessary libraries\n",
    "from pyspark.ml.feature import VectorAssembler\n",
    "from pyspark.ml.feature import StringIndexer\n",
    "from pyspark.ml.feature import VectorIndexer"
   ]
  },
  {
   "cell_type": "code",
   "execution_count": 3,
   "metadata": {},
   "outputs": [
    {
     "data": {
      "text/html": [
       "<style scoped>\n",
       "  .ansiout {\n",
       "    display: block;\n",
       "    unicode-bidi: embed;\n",
       "    white-space: pre-wrap;\n",
       "    word-wrap: break-word;\n",
       "    word-break: break-all;\n",
       "    font-family: \"Source Code Pro\", \"Menlo\", monospace;;\n",
       "    font-size: 13px;\n",
       "    color: #555;\n",
       "    margin-left: 4px;\n",
       "    line-height: 19px;\n",
       "  }\n",
       "</style>\n",
       "<div class=\"ansiout\"><span class=\"ansired\">Out[</span><span class=\"ansired\">3</span><span class=\"ansired\">]: </span>DataFrame[0: int, 1: int, 2: int, 3: int, 4: int, 5: int, 6: int, 7: int, 8: int, 9: int, 10: int, 11: int, 12: int, 13: int, 14: int, 15: int, 16: int, 17: int, 18: int, 19: int, 20: int, 21: int, 22: int, 23: int, 24: int, 25: int, 26: int, 27: int, 28: int, 29: int, 30: int, 31: int, 32: int, 33: int, 34: int, 35: int, 36: int, 37: int, 38: int, 39: int, 40: int, 41: int, 42: int, 43: int, 44: int, 45: int, 46: int, 47: int, 48: int, 49: int, 50: int, 51: int, 52: int, 53: int, 54: int, 55: int, 56: int, 57: int, 58: int, 59: int, 60: int, 61: int, 62: int, 63: int, 64: int, 65: int, 66: int, 67: int, 68: int, 69: int, 70: int, 71: int, 72: int, 73: int, 74: int, 75: int, 76: int, 77: int, 78: int, 79: int, 80: int, 81: int, 82: int, 83: int, 84: int, 85: int, 86: int, 87: int, 88: int, 89: int, 90: int, 91: int, 92: int, 93: int, 94: int, 95: int, 96: int, 97: int, 98: int, 99: int, 100: int, 101: int, 102: int, 103: int, 104: int, 105: int, 106: int, 107: int, 108: int, 109: int, 110: int, 111: int, 112: int, 113: int, 114: int, 115: int, 116: int, 117: int, 118: int, 119: int, 120: int, 121: int, 122: int, 123: int, 124: int, 125: int, 126: int, 127: int, 128: int, 129: int, 130: int, 131: int, 132: int, 133: int, 134: int, 135: int, 136: int, 137: int, 138: int, 139: int, 140: int, 141: int, 142: int, 143: int, 144: int, 145: int, 146: int, 147: int, 148: int, 149: int, 150: int, 151: int, 152: int, 153: int, 154: int, 155: int, 156: int, 157: int, 158: int, 159: int, 160: int, 161: int, 162: int, 163: int, 164: int, 165: int, 166: int, 167: int, 168: int, 169: int, 170: int, 171: int, 172: int, 173: int, 174: int, 175: int, 176: int, 177: int, 178: int, 179: int, 180: int, 181: int, 182: int, 183: int, 184: int, 185: int, 186: int, 187: int, 188: int, 189: int, 190: int, 191: int, 192: int, 193: int, 194: int, 195: int, 196: int, 197: int, 198: int, 199: int, 200: int, 201: int, 202: int, 203: int, 204: int, 205: int, 206: int, 207: int, 208: int, 209: int, 210: int, 211: int, 212: int, 213: int, 214: int, 215: int, 216: int, 217: int, 218: int, 219: int, 220: int, 221: int, 222: int, 223: int, 224: int, 225: int, 226: int, 227: int, 228: int, 229: int, 230: int, 231: int, 232: int, 233: int, 234: int, 235: int, 236: int, 237: int, 238: int, 239: int, 240: int, 241: int, 242: int, 243: int, 244: int, 245: int, 246: int, 247: int, 248: int, 249: int, 250: int, 251: int, 252: int, 253: int, 254: int, 255: int, 256: int, 257: int, 258: int, 259: int, 260: int, 261: int, 262: int, 263: int, 264: int, 265: int, 266: int, 267: int, 268: int, 269: int, 270: int, 271: int, 272: int, 273: int, 274: int, 275: int, 276: int, 277: int, 278: int, 279: int, 280: int, 281: int, 282: int, 283: int, 284: int, 285: int, 286: int, 287: int, 288: int, 289: int, 290: int, 291: int, 292: int, 293: int, 294: int, 295: int, 296: int, 297: int, 298: int, 299: int, 300: int, 301: int, 302: int, 303: int, 304: int, 305: int, 306: int, 307: int, 308: int, 309: int, 310: int, 311: int, 312: int, 313: int, 314: int, 315: int, 316: int, 317: int, 318: int, 319: int, 320: int, 321: int, 322: int, 323: int, 324: int, 325: int, 326: int, 327: int, 328: int, 329: int, 330: int, 331: int, 332: int, 333: int, 334: int, 335: int, 336: int, 337: int, 338: int, 339: int, 340: int, 341: int, 342: int, 343: int, 344: int, 345: int, 346: int, 347: int, 348: int, 349: int, 350: int, 351: int, 352: int, 353: int, 354: int, 355: int, 356: int, 357: int, 358: int, 359: int, 360: int, 361: int, 362: int, 363: int, 364: int, 365: int, 366: int, 367: int, 368: int, 369: int, 370: int, 371: int, 372: int, 373: int, 374: int, 375: int, 376: int, 377: int, 378: int, 379: int, 380: int, 381: int, 382: int, 383: int, 384: int, 385: int, 386: int, 387: int, 388: int, 389: int, 390: int, 391: int, 392: int, 393: int, 394: int, 395: int, 396: int, 397: int, 398: int, 399: int, 400: int, 401: int, 402: int, 403: int, 404: int, 405: int, 406: int, 407: int, 408: int, 409: int, 410: int, 411: int, 412: int, 413: int, 414: int, 415: int, 416: int, 417: int, 418: int, 419: int, 420: int, 421: int, 422: int, 423: int, 424: int, 425: int, 426: int, 427: int, 428: int, 429: int, 430: int, 431: int, 432: int, 433: int, 434: int, 435: int, 436: int, 437: int, 438: int, 439: int, 440: int, 441: int, 442: int, 443: int, 444: int, 445: int, 446: int, 447: int, 448: int, 449: int, 450: int, 451: int, 452: int, 453: int, 454: int, 455: int, 456: int, 457: int, 458: int, 459: int, 460: int, 461: int, 462: int, 463: int, 464: int, 465: int, 466: int, 467: int, 468: int, 469: int, 470: int, 471: int, 472: int, 473: int, 474: int, 475: int, 476: int, 477: int, 478: int, 479: int, 480: int, 481: int, 482: int, 483: int, 484: int, 485: int, 486: int, 487: int, 488: int, 489: int, 490: int, 491: int, 492: int, 493: int, 494: int, 495: int, 496: int, 497: int, 498: int, 499: int, 500: int, 501: int, 502: int, 503: int, 504: int, 505: int, 506: int, 507: int, 508: int, 509: int, 510: int, 511: int, 512: int, 513: int, 514: int, 515: int, 516: int, 517: int, 518: int, 519: int, 520: int, 521: int, 522: int, 523: int, 524: int, 525: int, 526: int, 527: int, 528: int, 529: int, 530: int, 531: int, 532: int, 533: int, 534: int, 535: int, 536: int, 537: int, 538: int, 539: int, 540: int, 541: int, 542: int, 543: int, 544: int, 545: int, 546: int, 547: int, 548: int, 549: int, 550: int, 551: int, 552: int, 553: int, 554: int, 555: int, 556: int, 557: int, 558: int, 559: int, 560: int, 561: int, 562: int, 563: int, 564: int, 565: int, 566: int, 567: int, 568: int, 569: int, 570: int, 571: int, 572: int, 573: int, 574: int, 575: int, 576: int, 577: int, 578: int, 579: int, 580: int, 581: int, 582: int, 583: int, 584: int, 585: int, 586: int, 587: int, 588: int, 589: int, 590: int, 591: int, 592: int, 593: int, 594: int, 595: int, 596: int, 597: int, 598: int, 599: int, 600: int, 601: int, 602: int, 603: int, 604: int, 605: int, 606: int, 607: int, 608: int, 609: int, 610: int, 611: int, 612: int, 613: int, 614: int, 615: int, 616: int, 617: int, 618: int, 619: int, 620: int, 621: int, 622: int, 623: int, 624: int, 625: int, 626: int, 627: int, 628: int, 629: int, 630: int, 631: int, 632: int, 633: int, 634: int, 635: int, 636: int, 637: int, 638: int, 639: int, 640: int, 641: int, 642: int, 643: int, 644: int, 645: int, 646: int, 647: int, 648: int, 649: int, 650: int, 651: int, 652: int, 653: int, 654: int, 655: int, 656: int, 657: int, 658: int, 659: int, 660: int, 661: int, 662: int, 663: int, 664: int, 665: int, 666: int, 667: int, 668: int, 669: int, 670: int, 671: int, 672: int, 673: int, 674: int, 675: int, 676: int, 677: int, 678: int, 679: int, 680: int, 681: int, 682: int, 683: int, 684: int, 685: int, 686: int, 687: int, 688: int, 689: int, 690: int, 691: int, 692: int, 693: int, 694: int, 695: int, 696: int, 697: int, 698: int, 699: int, 700: int, 701: int, 702: int, 703: int, 704: int, 705: int, 706: int, 707: int, 708: int, 709: int, 710: int, 711: int, 712: int, 713: int, 714: int, 715: int, 716: int, 717: int, 718: int, 719: int, 720: int, 721: int, 722: int, 723: int, 724: int, 725: int, 726: int, 727: int, 728: int, 729: int, 730: int, 731: int, 732: int, 733: int, 734: int, 735: int, 736: int, 737: int, 738: int, 739: int, 740: int, 741: int, 742: int, 743: int, 744: int, 745: int, 746: int, 747: int, 748: int, 749: int, 750: int, 751: int, 752: int, 753: int, 754: int, 755: int, 756: int, 757: int, 758: int, 759: int, 760: int, 761: int, 762: int, 763: int, 764: int, 765: int, 766: int, 767: int, 768: int, 769: int, 770: int, 771: int, 772: int, 773: int, 774: int, 775: int, 776: int, 777: int, 778: int, 779: int, 780: int, 781: int, 782: int, 783: int, label: int]\n",
       "</div>"
      ]
     },
     "metadata": {},
     "output_type": "display_data"
    }
   ],
   "source": [
    "#load training data\n",
    "trainData = spark.read.format(\"csv\") \\\n",
    "  .option(\"header\", \"true\") \\\n",
    "  .option(\"inferSchema\", \"true\") \\\n",
    "  .option(\"sep\", \",\") \\\n",
    "  .load(\"/FileStore/tables/9fruit_csv/9fruitsTrainDF.csv\")\n",
    "\n",
    "trainData.cache() # Cache data for faster reuse\n",
    "\n",
    "#load testing data\n",
    "testData = spark.read.format(\"csv\") \\\n",
    "  .option(\"header\", \"true\") \\\n",
    "  .option(\"inferSchema\", \"true\") \\\n",
    "  .option(\"sep\", \",\") \\\n",
    "  .load(\"/FileStore/tables/9fruit_csv/9fruitsTestDF.csv\")\n",
    "\n",
    "testData.cache() # Cache data for faster reuse"
   ]
  },
  {
   "cell_type": "code",
   "execution_count": 4,
   "metadata": {},
   "outputs": [
    {
     "data": {
      "text/html": [
       "<style scoped>\n",
       "  .ansiout {\n",
       "    display: block;\n",
       "    unicode-bidi: embed;\n",
       "    white-space: pre-wrap;\n",
       "    word-wrap: break-word;\n",
       "    word-break: break-all;\n",
       "    font-family: \"Source Code Pro\", \"Menlo\", monospace;;\n",
       "    font-size: 13px;\n",
       "    color: #555;\n",
       "    margin-left: 4px;\n",
       "    line-height: 19px;\n",
       "  }\n",
       "</style>\n",
       "<div class=\"ansiout\"></div>"
      ]
     },
     "metadata": {},
     "output_type": "display_data"
    }
   ],
   "source": [
    "column2features = trainData.columns\n",
    "column2features.remove(\"label\")"
   ]
  },
  {
   "cell_type": "code",
   "execution_count": 5,
   "metadata": {},
   "outputs": [
    {
     "data": {
      "text/html": [
       "<style scoped>\n",
       "  .ansiout {\n",
       "    display: block;\n",
       "    unicode-bidi: embed;\n",
       "    white-space: pre-wrap;\n",
       "    word-wrap: break-word;\n",
       "    word-break: break-all;\n",
       "    font-family: \"Source Code Pro\", \"Menlo\", monospace;;\n",
       "    font-size: 13px;\n",
       "    color: #555;\n",
       "    margin-left: 4px;\n",
       "    line-height: 19px;\n",
       "  }\n",
       "</style>\n",
       "<div class=\"ansiout\"></div>"
      ]
     },
     "metadata": {},
     "output_type": "display_data"
    }
   ],
   "source": [
    "#create feature column\n",
    "assembler = VectorAssembler().setInputCols(column2features).setOutputCol(\"features\")\n",
    "trainData_with_features = assembler.transform(trainData)\n",
    "testData_with_features = assembler.transform(testData)\n",
    "\n",
    "# trainData_with_features.show(1)\n",
    "# display(trainData_with_features.limit(10))"
   ]
  },
  {
   "cell_type": "code",
   "execution_count": 6,
   "metadata": {},
   "outputs": [
    {
     "data": {
      "text/html": [
       "<style scoped>\n",
       "  .ansiout {\n",
       "    display: block;\n",
       "    unicode-bidi: embed;\n",
       "    white-space: pre-wrap;\n",
       "    word-wrap: break-word;\n",
       "    word-break: break-all;\n",
       "    font-family: \"Source Code Pro\", \"Menlo\", monospace;;\n",
       "    font-size: 13px;\n",
       "    color: #555;\n",
       "    margin-left: 4px;\n",
       "    line-height: 19px;\n",
       "  }\n",
       "</style>\n",
       "<div class=\"ansiout\"></div>"
      ]
     },
     "metadata": {},
     "output_type": "display_data"
    }
   ],
   "source": [
    "#filter rows with null features\n",
    "trainData_with_features = trainData_with_features.filter(\"features is not null\")\n",
    "testData_with_features = testData_with_features.filter(\"features is not null\")"
   ]
  },
  {
   "cell_type": "code",
   "execution_count": 7,
   "metadata": {},
   "outputs": [
    {
     "data": {
      "text/html": [
       "<style scoped>\n",
       "  .ansiout {\n",
       "    display: block;\n",
       "    unicode-bidi: embed;\n",
       "    white-space: pre-wrap;\n",
       "    word-wrap: break-word;\n",
       "    word-break: break-all;\n",
       "    font-family: \"Source Code Pro\", \"Menlo\", monospace;;\n",
       "    font-size: 13px;\n",
       "    color: #555;\n",
       "    margin-left: 4px;\n",
       "    line-height: 19px;\n",
       "  }\n",
       "</style>\n",
       "<div class=\"ansiout\"></div>"
      ]
     },
     "metadata": {},
     "output_type": "display_data"
    }
   ],
   "source": [
    "# index label\n",
    "# add metadata to label column\n",
    "# fit on whole dataset so that to include all labels in index\n",
    "labelIndexer = StringIndexer().setInputCol(\"label\").setOutputCol(\"indexedLabel\").setHandleInvalid(\"skip\").fit(trainData_with_features)"
   ]
  },
  {
   "cell_type": "code",
   "execution_count": 8,
   "metadata": {},
   "outputs": [
    {
     "data": {
      "text/html": [
       "<style scoped>\n",
       "  .ansiout {\n",
       "    display: block;\n",
       "    unicode-bidi: embed;\n",
       "    white-space: pre-wrap;\n",
       "    word-wrap: break-word;\n",
       "    word-break: break-all;\n",
       "    font-family: \"Source Code Pro\", \"Menlo\", monospace;;\n",
       "    font-size: 13px;\n",
       "    color: #555;\n",
       "    margin-left: 4px;\n",
       "    line-height: 19px;\n",
       "  }\n",
       "</style>\n",
       "<div class=\"ansiout\"></div>"
      ]
     },
     "metadata": {},
     "output_type": "display_data"
    }
   ],
   "source": [
    "# index feature\n",
    "# identify categorical features, and index them.\n",
    "# set maxCategories as 20 so features with > 20 distinct values are treated as continuous\n",
    "featureIndexer = VectorIndexer().setInputCol(\"features\").setOutputCol(\"indexedFeatures\").setMaxCategories(20).setHandleInvalid(\"skip\").fit(trainData_with_features)"
   ]
  },
  {
   "cell_type": "markdown",
   "metadata": {},
   "source": [
    "# Multi-layer Perceptron Classifier"
   ]
  },
  {
   "cell_type": "code",
   "execution_count": 9,
   "metadata": {},
   "outputs": [
    {
     "data": {
      "text/html": [
       "<style scoped>\n",
       "  .ansiout {\n",
       "    display: block;\n",
       "    unicode-bidi: embed;\n",
       "    white-space: pre-wrap;\n",
       "    word-wrap: break-word;\n",
       "    word-break: break-all;\n",
       "    font-family: \"Source Code Pro\", \"Menlo\", monospace;;\n",
       "    font-size: 13px;\n",
       "    color: #555;\n",
       "    margin-left: 4px;\n",
       "    line-height: 19px;\n",
       "  }\n",
       "</style>\n",
       "<div class=\"ansiout\"></div>"
      ]
     },
     "metadata": {},
     "output_type": "display_data"
    }
   ],
   "source": [
    "#import neccessary libraries\n",
    "from pyspark.ml.classification import MultilayerPerceptronClassifier\n",
    "from pyspark.ml.evaluation import MulticlassClassificationEvaluator\n",
    "from pyspark.ml.feature import IndexToString\n",
    "from pyspark.ml import Pipeline"
   ]
  },
  {
   "cell_type": "code",
   "execution_count": 10,
   "metadata": {},
   "outputs": [
    {
     "data": {
      "text/html": [
       "<style scoped>\n",
       "  .ansiout {\n",
       "    display: block;\n",
       "    unicode-bidi: embed;\n",
       "    white-space: pre-wrap;\n",
       "    word-wrap: break-word;\n",
       "    word-break: break-all;\n",
       "    font-family: \"Source Code Pro\", \"Menlo\", monospace;;\n",
       "    font-size: 13px;\n",
       "    color: #555;\n",
       "    margin-left: 4px;\n",
       "    line-height: 19px;\n",
       "  }\n",
       "</style>\n",
       "<div class=\"ansiout\"></div>"
      ]
     },
     "metadata": {},
     "output_type": "display_data"
    }
   ],
   "source": [
    "# last 9 is the predicted value output\n",
    "# 9 equals to 9 value\n",
    "layers = [784, 50, 16, 9]\n",
    "\n",
    "trainer = MultilayerPerceptronClassifier().setLayers(layers).setLabelCol(\"indexedLabel\").setFeaturesCol(\"indexedFeatures\").setBlockSize(128).setSeed(123).setMaxIter(200)\n",
    "\n",
    "labelConverter = IndexToString().setInputCol(\"prediction\").setOutputCol(\"predictedLabel\").setLabels(labelIndexer.labels)\n",
    "\n",
    "pipeline = Pipeline().setStages([labelIndexer, featureIndexer, trainer, labelConverter])\n",
    "\n",
    "model = pipeline.fit(trainData_with_features)\n",
    "\n",
    "predictions = model.transform(testData_with_features)"
   ]
  },
  {
   "cell_type": "code",
   "execution_count": 11,
   "metadata": {},
   "outputs": [
    {
     "data": {
      "text/html": [
       "<style scoped>\n",
       "  .table-result-container {\n",
       "    max-height: 300px;\n",
       "    overflow: auto;\n",
       "  }\n",
       "  table, th, td {\n",
       "    border: 1px solid black;\n",
       "    border-collapse: collapse;\n",
       "  }\n",
       "  th, td {\n",
       "    padding: 5px;\n",
       "  }\n",
       "  th {\n",
       "    text-align: left;\n",
       "  }\n",
       "</style><div class='table-result-container'><table class='table-result'><thead style='background-color: white'><tr><th>label</th><th>prediction</th></tr></thead><tbody><tr><td>0</td><td>2.0</td></tr><tr><td>0</td><td>4.0</td></tr><tr><td>0</td><td>5.0</td></tr><tr><td>0</td><td>5.0</td></tr><tr><td>0</td><td>5.0</td></tr></tbody></table></div>"
      ]
     },
     "metadata": {},
     "output_type": "display_data"
    }
   ],
   "source": [
    "display(predictions.select(['label','prediction']).limit(5))"
   ]
  },
  {
   "cell_type": "code",
   "execution_count": 12,
   "metadata": {},
   "outputs": [
    {
     "data": {
      "text/html": [
       "<style scoped>\n",
       "  .ansiout {\n",
       "    display: block;\n",
       "    unicode-bidi: embed;\n",
       "    white-space: pre-wrap;\n",
       "    word-wrap: break-word;\n",
       "    word-break: break-all;\n",
       "    font-family: \"Source Code Pro\", \"Menlo\", monospace;;\n",
       "    font-size: 13px;\n",
       "    color: #555;\n",
       "    margin-left: 4px;\n",
       "    line-height: 19px;\n",
       "  }\n",
       "</style>\n",
       "<div class=\"ansiout\"><span class=\"ansired\">Out[</span><span class=\"ansired\">25</span><span class=\"ansired\">]: </span>0.10736912304101368\n",
       "</div>"
      ]
     },
     "metadata": {},
     "output_type": "display_data"
    }
   ],
   "source": [
    "#accuracy\n",
    "evaluator = MulticlassClassificationEvaluator(predictionCol=\"prediction\",labelCol = \"label\",metricName = \"accuracy\")\n",
    "evaluator.evaluate(predictions)"
   ]
  },
  {
   "cell_type": "code",
   "execution_count": 13,
   "metadata": {},
   "outputs": [
    {
     "data": {
      "text/html": [
       "<style scoped>\n",
       "  .ansiout {\n",
       "    display: block;\n",
       "    unicode-bidi: embed;\n",
       "    white-space: pre-wrap;\n",
       "    word-wrap: break-word;\n",
       "    word-break: break-all;\n",
       "    font-family: \"Source Code Pro\", \"Menlo\", monospace;;\n",
       "    font-size: 13px;\n",
       "    color: #555;\n",
       "    margin-left: 4px;\n",
       "    line-height: 19px;\n",
       "  }\n",
       "</style>\n",
       "<div class=\"ansiout\"><span class=\"ansired\">Out[</span><span class=\"ansired\">26</span><span class=\"ansired\">]: </span>0.10760070835194666\n",
       "</div>"
      ]
     },
     "metadata": {},
     "output_type": "display_data"
    }
   ],
   "source": [
    "#precision\n",
    "evaluator = MulticlassClassificationEvaluator(predictionCol=\"prediction\",labelCol = \"label\",metricName = \"weightedPrecision\")\n",
    "evaluator.evaluate(predictions)"
   ]
  },
  {
   "cell_type": "code",
   "execution_count": 14,
   "metadata": {},
   "outputs": [
    {
     "data": {
      "text/html": [
       "<style scoped>\n",
       "  .ansiout {\n",
       "    display: block;\n",
       "    unicode-bidi: embed;\n",
       "    white-space: pre-wrap;\n",
       "    word-wrap: break-word;\n",
       "    word-break: break-all;\n",
       "    font-family: \"Source Code Pro\", \"Menlo\", monospace;;\n",
       "    font-size: 13px;\n",
       "    color: #555;\n",
       "    margin-left: 4px;\n",
       "    line-height: 19px;\n",
       "  }\n",
       "</style>\n",
       "<div class=\"ansiout\"><span class=\"ansired\">Out[</span><span class=\"ansired\">27</span><span class=\"ansired\">]: </span>0.10736912304101368\n",
       "</div>"
      ]
     },
     "metadata": {},
     "output_type": "display_data"
    }
   ],
   "source": [
    "#recall\n",
    "evaluator = MulticlassClassificationEvaluator(predictionCol=\"prediction\",labelCol = \"label\",metricName = \"weightedRecall\")\n",
    "evaluator.evaluate(predictions)"
   ]
  },
  {
   "cell_type": "code",
   "execution_count": 15,
   "metadata": {},
   "outputs": [
    {
     "data": {
      "text/html": [
       "<style scoped>\n",
       "  .ansiout {\n",
       "    display: block;\n",
       "    unicode-bidi: embed;\n",
       "    white-space: pre-wrap;\n",
       "    word-wrap: break-word;\n",
       "    word-break: break-all;\n",
       "    font-family: \"Source Code Pro\", \"Menlo\", monospace;;\n",
       "    font-size: 13px;\n",
       "    color: #555;\n",
       "    margin-left: 4px;\n",
       "    line-height: 19px;\n",
       "  }\n",
       "</style>\n",
       "<div class=\"ansiout\"><span class=\"ansired\">Out[</span><span class=\"ansired\">28</span><span class=\"ansired\">]: </span>0.10739189277893936\n",
       "</div>"
      ]
     },
     "metadata": {},
     "output_type": "display_data"
    }
   ],
   "source": [
    "#F1-score\n",
    "evaluator = MulticlassClassificationEvaluator(predictionCol=\"prediction\",labelCol = \"label\",metricName = \"f1\")\n",
    "evaluator.evaluate(predictions)"
   ]
  },
  {
   "cell_type": "markdown",
   "metadata": {},
   "source": [
    "# Random Forest Classifier"
   ]
  },
  {
   "cell_type": "code",
   "execution_count": 16,
   "metadata": {},
   "outputs": [
    {
     "data": {
      "text/html": [
       "<style scoped>\n",
       "  .ansiout {\n",
       "    display: block;\n",
       "    unicode-bidi: embed;\n",
       "    white-space: pre-wrap;\n",
       "    word-wrap: break-word;\n",
       "    word-break: break-all;\n",
       "    font-family: \"Source Code Pro\", \"Menlo\", monospace;;\n",
       "    font-size: 13px;\n",
       "    color: #555;\n",
       "    margin-left: 4px;\n",
       "    line-height: 19px;\n",
       "  }\n",
       "</style>\n",
       "<div class=\"ansiout\"></div>"
      ]
     },
     "metadata": {},
     "output_type": "display_data"
    }
   ],
   "source": [
    "#import neccessary libraries\n",
    "from pyspark.ml.classification import RandomForestClassifier\n",
    "from pyspark.ml import Pipeline\n",
    "from pyspark.ml.tuning import ParamGridBuilder, CrossValidator"
   ]
  },
  {
   "cell_type": "code",
   "execution_count": 17,
   "metadata": {},
   "outputs": [
    {
     "data": {
      "text/html": [
       "<style scoped>\n",
       "  .ansiout {\n",
       "    display: block;\n",
       "    unicode-bidi: embed;\n",
       "    white-space: pre-wrap;\n",
       "    word-wrap: break-word;\n",
       "    word-break: break-all;\n",
       "    font-family: \"Source Code Pro\", \"Menlo\", monospace;;\n",
       "    font-size: 13px;\n",
       "    color: #555;\n",
       "    margin-left: 4px;\n",
       "    line-height: 19px;\n",
       "  }\n",
       "</style>\n",
       "<div class=\"ansiout\"></div>"
      ]
     },
     "metadata": {},
     "output_type": "display_data"
    }
   ],
   "source": [
    "# Create a RandomForestClassifier\n",
    "rf = RandomForestClassifier()\n",
    "\n",
    "# Set ParamGridBuilder \n",
    "grid_rf = ParamGridBuilder().baseOn({rf.labelCol: 'label'}).baseOn([rf.predictionCol, 'prediction']).baseOn([rf.featuresCol,'features']).baseOn([rf.seed,123]).addGrid(rf.maxDepth, [5,10]).addGrid(rf.numTrees, [10,20]).build()\n",
    "\n",
    "evaluator = MulticlassClassificationEvaluator(predictionCol=\"prediction\",labelCol = \"label\",metricName = \"accuracy\")\n",
    "\n",
    "\n",
    "cv_rf = CrossValidator(estimator=rf, estimatorParamMaps=grid_rf, evaluator=evaluator)\n",
    "\n",
    "# Create a Pipeline\n",
    "rfPipeline = Pipeline()\n",
    "\n",
    "# Set the stages of the Pipeline\n",
    "rfPipeline.setStages([assembler, cv_rf])\n",
    "\n",
    "# Let's train on the entire dataset to see what we get\n",
    "rfModel = rfPipeline.fit(trainData)"
   ]
  },
  {
   "cell_type": "code",
   "execution_count": 18,
   "metadata": {},
   "outputs": [
    {
     "data": {
      "text/html": [
       "<style scoped>\n",
       "  .table-result-container {\n",
       "    max-height: 300px;\n",
       "    overflow: auto;\n",
       "  }\n",
       "  table, th, td {\n",
       "    border: 1px solid black;\n",
       "    border-collapse: collapse;\n",
       "  }\n",
       "  th, td {\n",
       "    padding: 5px;\n",
       "  }\n",
       "  th {\n",
       "    text-align: left;\n",
       "  }\n",
       "</style><div class='table-result-container'><table class='table-result'><thead style='background-color: white'><tr><th>label</th><th>prediction</th></tr></thead><tbody><tr><td>0</td><td>0.0</td></tr><tr><td>0</td><td>1.0</td></tr><tr><td>0</td><td>0.0</td></tr><tr><td>0</td><td>0.0</td></tr><tr><td>0</td><td>0.0</td></tr><tr><td>0</td><td>0.0</td></tr><tr><td>0</td><td>0.0</td></tr><tr><td>0</td><td>0.0</td></tr><tr><td>0</td><td>7.0</td></tr><tr><td>0</td><td>0.0</td></tr></tbody></table></div>"
      ]
     },
     "metadata": {},
     "output_type": "display_data"
    }
   ],
   "source": [
    "resultsDF_rf = rfModel.transform(testData).select('label','prediction')\n",
    "display(resultsDF_rf.limit(10))"
   ]
  },
  {
   "cell_type": "code",
   "execution_count": 19,
   "metadata": {},
   "outputs": [
    {
     "data": {
      "text/html": [
       "<style scoped>\n",
       "  .ansiout {\n",
       "    display: block;\n",
       "    unicode-bidi: embed;\n",
       "    white-space: pre-wrap;\n",
       "    word-wrap: break-word;\n",
       "    word-break: break-all;\n",
       "    font-family: \"Source Code Pro\", \"Menlo\", monospace;;\n",
       "    font-size: 13px;\n",
       "    color: #555;\n",
       "    margin-left: 4px;\n",
       "    line-height: 19px;\n",
       "  }\n",
       "</style>\n",
       "<div class=\"ansiout\"><span class=\"ansired\">Out[</span><span class=\"ansired\">32</span><span class=\"ansired\">]: </span>0.7076666666666667\n",
       "</div>"
      ]
     },
     "metadata": {},
     "output_type": "display_data"
    }
   ],
   "source": [
    "#accuracy\n",
    "evaluator = MulticlassClassificationEvaluator(predictionCol=\"prediction\",labelCol = \"label\",metricName = \"accuracy\")\n",
    "evaluator.evaluate(resultsDF_rf)"
   ]
  },
  {
   "cell_type": "code",
   "execution_count": 20,
   "metadata": {},
   "outputs": [
    {
     "data": {
      "text/html": [
       "<style scoped>\n",
       "  .ansiout {\n",
       "    display: block;\n",
       "    unicode-bidi: embed;\n",
       "    white-space: pre-wrap;\n",
       "    word-wrap: break-word;\n",
       "    word-break: break-all;\n",
       "    font-family: \"Source Code Pro\", \"Menlo\", monospace;;\n",
       "    font-size: 13px;\n",
       "    color: #555;\n",
       "    margin-left: 4px;\n",
       "    line-height: 19px;\n",
       "  }\n",
       "</style>\n",
       "<div class=\"ansiout\"><span class=\"ansired\">Out[</span><span class=\"ansired\">33</span><span class=\"ansired\">]: </span>0.7093310612475302\n",
       "</div>"
      ]
     },
     "metadata": {},
     "output_type": "display_data"
    }
   ],
   "source": [
    "#precision\n",
    "evaluator = MulticlassClassificationEvaluator(predictionCol=\"prediction\",labelCol = \"label\",metricName = \"weightedPrecision\")\n",
    "evaluator.evaluate(resultsDF_rf)"
   ]
  },
  {
   "cell_type": "code",
   "execution_count": 21,
   "metadata": {},
   "outputs": [
    {
     "data": {
      "text/html": [
       "<style scoped>\n",
       "  .ansiout {\n",
       "    display: block;\n",
       "    unicode-bidi: embed;\n",
       "    white-space: pre-wrap;\n",
       "    word-wrap: break-word;\n",
       "    word-break: break-all;\n",
       "    font-family: \"Source Code Pro\", \"Menlo\", monospace;;\n",
       "    font-size: 13px;\n",
       "    color: #555;\n",
       "    margin-left: 4px;\n",
       "    line-height: 19px;\n",
       "  }\n",
       "</style>\n",
       "<div class=\"ansiout\"><span class=\"ansired\">Out[</span><span class=\"ansired\">34</span><span class=\"ansired\">]: </span>0.7076666666666666\n",
       "</div>"
      ]
     },
     "metadata": {},
     "output_type": "display_data"
    }
   ],
   "source": [
    "#recall\n",
    "evaluator = MulticlassClassificationEvaluator(predictionCol=\"prediction\",labelCol = \"label\",metricName = \"weightedRecall\")\n",
    "evaluator.evaluate(resultsDF_rf)"
   ]
  },
  {
   "cell_type": "code",
   "execution_count": 22,
   "metadata": {},
   "outputs": [
    {
     "data": {
      "text/html": [
       "<style scoped>\n",
       "  .ansiout {\n",
       "    display: block;\n",
       "    unicode-bidi: embed;\n",
       "    white-space: pre-wrap;\n",
       "    word-wrap: break-word;\n",
       "    word-break: break-all;\n",
       "    font-family: \"Source Code Pro\", \"Menlo\", monospace;;\n",
       "    font-size: 13px;\n",
       "    color: #555;\n",
       "    margin-left: 4px;\n",
       "    line-height: 19px;\n",
       "  }\n",
       "</style>\n",
       "<div class=\"ansiout\"><span class=\"ansired\">Out[</span><span class=\"ansired\">35</span><span class=\"ansired\">]: </span>0.7048591716180372\n",
       "</div>"
      ]
     },
     "metadata": {},
     "output_type": "display_data"
    }
   ],
   "source": [
    "#F1-score\n",
    "evaluator = MulticlassClassificationEvaluator(predictionCol=\"prediction\",labelCol = \"label\",metricName = \"f1\")\n",
    "evaluator.evaluate(resultsDF_rf)"
   ]
  },
  {
   "cell_type": "markdown",
   "metadata": {},
   "source": [
    "# Multinomial Logistic Regression"
   ]
  },
  {
   "cell_type": "code",
   "execution_count": 23,
   "metadata": {},
   "outputs": [
    {
     "data": {
      "text/html": [
       "<style scoped>\n",
       "  .ansiout {\n",
       "    display: block;\n",
       "    unicode-bidi: embed;\n",
       "    white-space: pre-wrap;\n",
       "    word-wrap: break-word;\n",
       "    word-break: break-all;\n",
       "    font-family: \"Source Code Pro\", \"Menlo\", monospace;;\n",
       "    font-size: 13px;\n",
       "    color: #555;\n",
       "    margin-left: 4px;\n",
       "    line-height: 19px;\n",
       "  }\n",
       "</style>\n",
       "<div class=\"ansiout\"></div>"
      ]
     },
     "metadata": {},
     "output_type": "display_data"
    }
   ],
   "source": [
    "#import neccessary libraries\n",
    "from pyspark.ml.classification import LogisticRegression"
   ]
  },
  {
   "cell_type": "code",
   "execution_count": 24,
   "metadata": {},
   "outputs": [
    {
     "data": {
      "text/html": [
       "<style scoped>\n",
       "  .ansiout {\n",
       "    display: block;\n",
       "    unicode-bidi: embed;\n",
       "    white-space: pre-wrap;\n",
       "    word-wrap: break-word;\n",
       "    word-break: break-all;\n",
       "    font-family: \"Source Code Pro\", \"Menlo\", monospace;;\n",
       "    font-size: 13px;\n",
       "    color: #555;\n",
       "    margin-left: 4px;\n",
       "    line-height: 19px;\n",
       "  }\n",
       "</style>\n",
       "<div class=\"ansiout\"></div>"
      ]
     },
     "metadata": {},
     "output_type": "display_data"
    }
   ],
   "source": [
    "# Create a Multinomial Logistic Regression Model\n",
    "mlr = LogisticRegression(family = \"multinomial\")\n",
    "\n",
    "# Set ParamGridBuilder \n",
    "grid_mlr = ParamGridBuilder().baseOn({mlr.labelCol: 'label'}).baseOn([mlr.predictionCol, 'prediction']).baseOn([mlr.featuresCol,'features']).addGrid(mlr.maxIter, [50,100]).addGrid(mlr.regParam, [1.0,2.0]).build()\n",
    "\n",
    "evaluator = MulticlassClassificationEvaluator(predictionCol=\"prediction\",labelCol = \"label\",metricName = \"accuracy\")\n",
    "\n",
    "cv_mlr = CrossValidator(estimator=mlr, estimatorParamMaps=grid_mlr, evaluator=evaluator)\n",
    "\n",
    "# Create a Pipeline\n",
    "mlrPipeline = Pipeline()\n",
    "\n",
    "# Set the stages of the Pipeline\n",
    "mlrPipeline.setStages([assembler, cv_mlr])\n",
    "\n",
    "# Let's train on the entire dataset to see what we get\n",
    "mlrModel = mlrPipeline.fit(trainData)"
   ]
  },
  {
   "cell_type": "code",
   "execution_count": 25,
   "metadata": {},
   "outputs": [
    {
     "data": {
      "text/html": [
       "<style scoped>\n",
       "  .table-result-container {\n",
       "    max-height: 300px;\n",
       "    overflow: auto;\n",
       "  }\n",
       "  table, th, td {\n",
       "    border: 1px solid black;\n",
       "    border-collapse: collapse;\n",
       "  }\n",
       "  th, td {\n",
       "    padding: 5px;\n",
       "  }\n",
       "  th {\n",
       "    text-align: left;\n",
       "  }\n",
       "</style><div class='table-result-container'><table class='table-result'><thead style='background-color: white'><tr><th>label</th><th>prediction</th></tr></thead><tbody><tr><td>0</td><td>0.0</td></tr><tr><td>0</td><td>1.0</td></tr><tr><td>0</td><td>0.0</td></tr><tr><td>0</td><td>0.0</td></tr><tr><td>0</td><td>0.0</td></tr><tr><td>0</td><td>5.0</td></tr><tr><td>0</td><td>0.0</td></tr><tr><td>0</td><td>0.0</td></tr><tr><td>0</td><td>7.0</td></tr><tr><td>0</td><td>0.0</td></tr></tbody></table></div>"
      ]
     },
     "metadata": {},
     "output_type": "display_data"
    }
   ],
   "source": [
    "resultsDF_mlr = mlrModel.transform(testData).select('label','prediction')\n",
    "display(resultsDF_mlr.limit(10))"
   ]
  },
  {
   "cell_type": "code",
   "execution_count": 26,
   "metadata": {},
   "outputs": [
    {
     "data": {
      "text/html": [
       "<style scoped>\n",
       "  .ansiout {\n",
       "    display: block;\n",
       "    unicode-bidi: embed;\n",
       "    white-space: pre-wrap;\n",
       "    word-wrap: break-word;\n",
       "    word-break: break-all;\n",
       "    font-family: \"Source Code Pro\", \"Menlo\", monospace;;\n",
       "    font-size: 13px;\n",
       "    color: #555;\n",
       "    margin-left: 4px;\n",
       "    line-height: 19px;\n",
       "  }\n",
       "</style>\n",
       "<div class=\"ansiout\"><span class=\"ansired\">Out[</span><span class=\"ansired\">39</span><span class=\"ansired\">]: </span>0.6455555555555555\n",
       "</div>"
      ]
     },
     "metadata": {},
     "output_type": "display_data"
    }
   ],
   "source": [
    "#accuracy\n",
    "evaluator = MulticlassClassificationEvaluator(predictionCol=\"prediction\",labelCol = \"label\",metricName = \"accuracy\")\n",
    "evaluator.evaluate(resultsDF_mlr)"
   ]
  },
  {
   "cell_type": "code",
   "execution_count": 27,
   "metadata": {},
   "outputs": [
    {
     "data": {
      "text/html": [
       "<style scoped>\n",
       "  .ansiout {\n",
       "    display: block;\n",
       "    unicode-bidi: embed;\n",
       "    white-space: pre-wrap;\n",
       "    word-wrap: break-word;\n",
       "    word-break: break-all;\n",
       "    font-family: \"Source Code Pro\", \"Menlo\", monospace;;\n",
       "    font-size: 13px;\n",
       "    color: #555;\n",
       "    margin-left: 4px;\n",
       "    line-height: 19px;\n",
       "  }\n",
       "</style>\n",
       "<div class=\"ansiout\"><span class=\"ansired\">Out[</span><span class=\"ansired\">40</span><span class=\"ansired\">]: </span>0.6413620164890347\n",
       "</div>"
      ]
     },
     "metadata": {},
     "output_type": "display_data"
    }
   ],
   "source": [
    "#precision\n",
    "evaluator = MulticlassClassificationEvaluator(predictionCol=\"prediction\",labelCol = \"label\",metricName = \"weightedPrecision\")\n",
    "evaluator.evaluate(resultsDF_mlr)"
   ]
  },
  {
   "cell_type": "code",
   "execution_count": 28,
   "metadata": {},
   "outputs": [
    {
     "data": {
      "text/html": [
       "<style scoped>\n",
       "  .ansiout {\n",
       "    display: block;\n",
       "    unicode-bidi: embed;\n",
       "    white-space: pre-wrap;\n",
       "    word-wrap: break-word;\n",
       "    word-break: break-all;\n",
       "    font-family: \"Source Code Pro\", \"Menlo\", monospace;;\n",
       "    font-size: 13px;\n",
       "    color: #555;\n",
       "    margin-left: 4px;\n",
       "    line-height: 19px;\n",
       "  }\n",
       "</style>\n",
       "<div class=\"ansiout\"><span class=\"ansired\">Out[</span><span class=\"ansired\">41</span><span class=\"ansired\">]: </span>0.6455555555555555\n",
       "</div>"
      ]
     },
     "metadata": {},
     "output_type": "display_data"
    }
   ],
   "source": [
    "#recall\n",
    "evaluator = MulticlassClassificationEvaluator(predictionCol=\"prediction\",labelCol = \"label\",metricName = \"weightedRecall\")\n",
    "evaluator.evaluate(resultsDF_mlr)"
   ]
  },
  {
   "cell_type": "code",
   "execution_count": 29,
   "metadata": {},
   "outputs": [
    {
     "data": {
      "text/html": [
       "<style scoped>\n",
       "  .ansiout {\n",
       "    display: block;\n",
       "    unicode-bidi: embed;\n",
       "    white-space: pre-wrap;\n",
       "    word-wrap: break-word;\n",
       "    word-break: break-all;\n",
       "    font-family: \"Source Code Pro\", \"Menlo\", monospace;;\n",
       "    font-size: 13px;\n",
       "    color: #555;\n",
       "    margin-left: 4px;\n",
       "    line-height: 19px;\n",
       "  }\n",
       "</style>\n",
       "<div class=\"ansiout\"><span class=\"ansired\">Out[</span><span class=\"ansired\">42</span><span class=\"ansired\">]: </span>0.6423337608577788\n",
       "</div>"
      ]
     },
     "metadata": {},
     "output_type": "display_data"
    }
   ],
   "source": [
    "#F1-score\n",
    "evaluator = MulticlassClassificationEvaluator(predictionCol=\"prediction\",labelCol = \"label\",metricName = \"f1\")\n",
    "evaluator.evaluate(resultsDF_mlr)"
   ]
  }
 ],
 "metadata": {
  "kernelspec": {
   "display_name": "Python 3",
   "language": "python",
   "name": "python3"
  },
  "language_info": {
   "codemirror_mode": {
    "name": "ipython",
    "version": 3
   },
   "file_extension": ".py",
   "mimetype": "text/x-python",
   "name": "python",
   "nbconvert_exporter": "python",
   "pygments_lexer": "ipython3",
   "version": "3.6.1"
  },
  "name": "Project",
  "notebookId": 3244486348709436
 },
 "nbformat": 4,
 "nbformat_minor": 1
}
