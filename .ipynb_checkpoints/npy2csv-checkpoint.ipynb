{
 "cells": [
  {
   "cell_type": "code",
   "execution_count": 1,
   "metadata": {
    "collapsed": true
   },
   "outputs": [],
   "source": [
    "import numpy as np\n",
    "import pandas as pd\n",
    "from matplotlib import pyplot as plt"
   ]
  },
  {
   "cell_type": "markdown",
   "metadata": {},
   "source": [
    "# Load data"
   ]
  },
  {
   "cell_type": "code",
   "execution_count": 2,
   "metadata": {
    "collapsed": true
   },
   "outputs": [],
   "source": [
    "apple = np.load(\"./dataset/apple.npy\")\n",
    "banana = np.load(\"./dataset/banana.npy\")\n",
    "blackberry = np.load(\"./dataset/blackberry.npy\")\n",
    "blueberry = np.load(\"./dataset/blueberry.npy\")\n",
    "grapes = np.load(\"./dataset/grapes.npy\")\n",
    "pear = np.load(\"./dataset/pear.npy\")\n",
    "pineapple = np.load(\"./dataset/pineapple.npy\")\n",
    "strawberry =  np.load(\"./dataset/strawberry.npy\")\n",
    "watermelon =  np.load(\"./dataset/watermelon.npy\")"
   ]
  },
  {
   "cell_type": "markdown",
   "metadata": {},
   "source": [
    "# Show image from dataset"
   ]
  },
  {
   "cell_type": "code",
   "execution_count": 3,
   "metadata": {},
   "outputs": [
    {
     "data": {
      "image/png": "[encoded data removed]",
      "text/plain": [
       "<Figure size 432x288 with 1 Axes>"
      ]
     },
     "metadata": {},
     "output_type": "display_data"
    }
   ],
   "source": [
    "# Show image\n",
    "temp = watermelon[20].reshape((28, 28))\n",
    "plt.imshow(temp, interpolation='nearest', cmap='gray')\n",
    "plt.axis('off')\n",
    "plt.show()"
   ]
  },
  {
   "cell_type": "markdown",
   "metadata": {},
   "source": [
    "# Extract data into Training dataset"
   ]
  },
  {
   "cell_type": "code",
   "execution_count": 4,
   "metadata": {
    "collapsed": true
   },
   "outputs": [],
   "source": [
    "appleTrain = apple[0:5000,:]\n",
    "bananaTrain = banana[0:5000,:]\n",
    "blackberryTrain = blackberry[0:5000,:]\n",
    "blueberryTrain = blueberry[0:5000,:]\n",
    "grapesTrain = grapes[0:5000,:]\n",
    "pearTrain = pear[0:5000,:]\n",
    "pineappleTrain = pineapple[0:5000,:]\n",
    "strawberryTrain = strawberry[0:5000,:]\n",
    "watermelonTrain = watermelon[0:5000,:]"
   ]
  },
  {
   "cell_type": "code",
   "execution_count": 5,
   "metadata": {
    "collapsed": true
   },
   "outputs": [],
   "source": [
    "appleTrainDF=pd.DataFrame(appleTrain,dtype='int')\n",
    "bananaTrainDF=pd.DataFrame(bananaTrain,dtype='int')\n",
    "blackberryTrainDF=pd.DataFrame(blackberryTrain,dtype='int')\n",
    "blueberryTrainDF=pd.DataFrame(blueberryTrain,dtype='int')\n",
    "grapesTrainDF=pd.DataFrame(grapesTrain,dtype='int')\n",
    "pearTrainDF=pd.DataFrame(pearTrain,dtype='int')\n",
    "pineappleTrainDF=pd.DataFrame(pineappleTrain,dtype='int')\n",
    "strawberryTrainDF=pd.DataFrame(strawberryTrain,dtype='int')\n",
    "watermelonTrainDF=pd.DataFrame(watermelonTrain,dtype='int')"
   ]
  },
  {
   "cell_type": "code",
   "execution_count": 6,
   "metadata": {
    "collapsed": true
   },
   "outputs": [],
   "source": [
    "appleTrainDF['label']=0\n",
    "bananaTrainDF['label']=1\n",
    "blackberryTrainDF['label']=2\n",
    "blueberryTrainDF['label']=3\n",
    "grapesTrainDF['label']=4\n",
    "pearTrainDF['label']=5\n",
    "pineappleTrainDF['label']=6\n",
    "strawberryTrainDF['label']=7\n",
    "watermelonTrainDF['label']=8"
   ]
  },
  {
   "cell_type": "code",
   "execution_count": 7,
   "metadata": {
    "collapsed": true
   },
   "outputs": [],
   "source": [
    "fruitsTrainDF = pd.concat([appleTrainDF, bananaTrainDF, blackberryTrainDF, blueberryTrainDF, grapesTrainDF, pearTrainDF, pineappleTrainDF, strawberryTrainDF, watermelonTrainDF])"
   ]
  },
  {
   "cell_type": "code",
   "execution_count": 8,
   "metadata": {},
   "outputs": [
    {
     "data": {
      "text/plain": [
       "(45000, 785)"
      ]
     },
     "execution_count": 8,
     "metadata": {},
     "output_type": "execute_result"
    }
   ],
   "source": [
    "fruitsTrainDF.shape"
   ]
  },
  {
   "cell_type": "code",
   "execution_count": 39,
   "metadata": {
    "collapsed": true
   },
   "outputs": [],
   "source": [
    "fruitsTrainDF.to_csv(\"9fruitsTrainDF.csv\", sep=',',header=True,index=False)"
   ]
  },
  {
   "cell_type": "code",
   "execution_count": null,
   "metadata": {
    "collapsed": true
   },
   "outputs": [],
   "source": []
  },
  {
   "cell_type": "code",
   "execution_count": null,
   "metadata": {
    "collapsed": true
   },
   "outputs": [],
   "source": []
  },
  {
   "cell_type": "code",
   "execution_count": 40,
   "metadata": {
    "collapsed": true
   },
   "outputs": [],
   "source": [
    "appleTest = apple[5001:6001,:]\n",
    "bananaTest = banana[5001:6001,:]\n",
    "blackberryTest = blackberry[5001:6001,:]\n",
    "blueberryTest = blueberry[5001:6001,:]\n",
    "grapesTest = grapes[5001:6001,:]\n",
    "pearTest = pear[5001:6001,:]\n",
    "pineappleTest = pineapple[5001:6001,:]\n",
    "strawberryTest =  strawberry[5001:6001,:]\n",
    "watermelonTest =  watermelon[5001:6001,:]\n",
    "\n",
    "appleTestDF=pd.DataFrame(appleTest,dtype='int')\n",
    "bananaTestDF=pd.DataFrame(bananaTest,dtype='int')\n",
    "blackberryTestDF=pd.DataFrame(blackberryTest,dtype='int')\n",
    "blueberryTestDF=pd.DataFrame(blueberryTest,dtype='int')\n",
    "grapesTestDF=pd.DataFrame(grapesTest,dtype='int')\n",
    "pearTestDF=pd.DataFrame(pearTest,dtype='int')\n",
    "pineappleTestDF=pd.DataFrame(pineappleTest,dtype='int')\n",
    "strawberryTestDF=pd.DataFrame(strawberryTest,dtype='int')\n",
    "watermelonTestDF=pd.DataFrame(watermelonTest,dtype='int')\n",
    "\n",
    "appleTestDF['label']=0\n",
    "bananaTestDF['label']=1\n",
    "blackberryTestDF['label']=2\n",
    "blueberryTestDF['label']=3\n",
    "grapesTestDF['label']=4\n",
    "pearTestDF['label']=5\n",
    "pineappleTestDF['label']=6\n",
    "strawberryTestDF['label']=7\n",
    "watermelonTestDF['label']=8\n",
    "\n",
    "fruitsTestDF = pd.concat([appleTestDF, bananaTestDF, blackberryTestDF, blueberryTestDF, grapesTestDF, pearTestDF, pineappleTestDF, strawberryTestDF, watermelonTestDF])"
   ]
  },
  {
   "cell_type": "code",
   "execution_count": 41,
   "metadata": {},
   "outputs": [
    {
     "data": {
      "text/plain": [
       "(9000, 785)"
      ]
     },
     "execution_count": 41,
     "metadata": {},
     "output_type": "execute_result"
    }
   ],
   "source": [
    "fruitsTestDF.shape"
   ]
  },
  {
   "cell_type": "code",
   "execution_count": 42,
   "metadata": {
    "collapsed": true
   },
   "outputs": [],
   "source": [
    "fruitsTestDF.to_csv(\"9fruitsTestDF.csv\", sep=',',header=True,index=False)"
   ]
  },
  {
   "cell_type": "code",
   "execution_count": null,
   "metadata": {
    "collapsed": true
   },
   "outputs": [],
   "source": []
  },
  {
   "cell_type": "code",
   "execution_count": 20,
   "metadata": {
    "collapsed": true
   },
   "outputs": [],
   "source": [
    "appleTest = apple[10001:15001,:]\n",
    "bananaTest = banana[10001:15001,:]\n",
    "strawberryTest = strawberry[10001:15001,:]\n",
    "\n",
    "appleTestDF=pd.DataFrame(appleTest,dtype='int')\n",
    "bananaTestDF=pd.DataFrame(bananaTest,dtype='int')\n",
    "strawberryTestDF=pd.DataFrame(strawberryTest,dtype='int')\n",
    "\n",
    "appleTestDF['label']=0\n",
    "bananaTestDF['label']=1\n",
    "strawberryTestDF['label']=2\n",
    "\n",
    "fruitsTestDF = pd.concat([appleTestDF, bananaTestDF, strawberryTestDF])\n",
    "\n",
    "fruitsTestDF.to_csv(\"fruitsTestDF.csv\", sep=',',header=True,index=False)"
   ]
  }
 ],
 "metadata": {
  "kernelspec": {
   "display_name": "Python 3",
   "language": "python",
   "name": "python3"
  },
  "language_info": {
   "codemirror_mode": {
    "name": "ipython",
    "version": 3
   },
   "file_extension": ".py",
   "mimetype": "text/x-python",
   "name": "python",
   "nbconvert_exporter": "python",
   "pygments_lexer": "ipython3",
   "version": "3.6.1"
  }
 },
 "nbformat": 4,
 "nbformat_minor": 2
}
